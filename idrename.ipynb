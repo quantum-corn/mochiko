{
 "cells": [
  {
   "cell_type": "code",
   "execution_count": 1,
   "metadata": {},
   "outputs": [],
   "source": [
    "const {readFile} = require('fs');\n",
    "const t = require('transit-js');\n",
    "const r = t.reader('json');\n",
    "const w = t.writer('json-verbose');\n",
    "const str = 'Hiragana';"
   ]
  },
  {
   "cell_type": "code",
   "execution_count": 2,
   "metadata": {},
   "outputs": [],
   "source": [
    "const open = function(data) {\n",
    "    return data._entries;\n",
    "}"
   ]
  },
  {
   "cell_type": "code",
   "execution_count": 3,
   "metadata": {},
   "outputs": [],
   "source": [
    "const cards = function(data) {\n",
    "    return open(open(data)[5][0])[11].rep;\n",
    "}"
   ]
  },
  {
   "cell_type": "code",
   "execution_count": 4,
   "metadata": {},
   "outputs": [],
   "source": [
    "const card_name = function(data) {\n",
    "    return open(data)[7];\n",
    "}"
   ]
  },
  {
   "cell_type": "code",
   "execution_count": 5,
   "metadata": {},
   "outputs": [],
   "source": [
    "const card_value = function(data) {\n",
    "    return open(open(open(data)[13])[1])[3];\n",
    "}"
   ]
  },
  {
   "cell_type": "code",
   "execution_count": 6,
   "metadata": {},
   "outputs": [],
   "source": [
    "const card_id = function(data) {\n",
    "    return open(data)[23]._name;\n",
    "}"
   ]
  },
  {
   "cell_type": "code",
   "execution_count": 11,
   "metadata": {},
   "outputs": [],
   "source": [
    "var manip = function(data) {\n",
    "    card=cards(data)[0];\n",
    "    card_id(card)=w.write('success');\n",
    "}"
   ]
  },
  {
   "cell_type": "code",
   "execution_count": null,
   "metadata": {},
   "outputs": [
    {
     "name": "stderr",
     "output_type": "stream",
     "text": [
      "ReferenceError: Invalid left-hand side in assignment\n",
      "    at manip (evalmachine.<anonymous>:3:5)\n",
      "    at evalmachine.<anonymous>:4:5\n",
      "    at FSReqCallback.readFileAfterClose [as oncomplete] (internal/fs/read_file_context.js:63:3)"
     ]
    }
   ],
   "source": [
    "readFile('data.json', 'utf8', (error, text)=>{\n",
    "    if (error) throw error;\n",
    "    let data= r.read(text);\n",
    "    manip(data);\n",
    "});"
   ]
  },
  {
   "cell_type": "code",
   "execution_count": null,
   "metadata": {},
   "outputs": [
    {
     "name": "stdout",
     "output_type": "stream",
     "text": [
      "{\n",
      "  '~:version': 2,\n",
      "  '~:templates': { '~#list': [ [Object], [Object], [Object], [Object], [Object] ] },\n",
      "  '~:decks': [\n",
      "    {\n",
      "      '~:id': '~:DaldoOig',\n",
      "      '~:sort': 2,\n",
      "      '~:name': 'Kana',\n",
      "      '~:cards': [Object]\n",
      "    },\n",
      "    {\n",
      "      '~:id': '~:WKEjX1ww',\n",
      "      '~:sort': 1,\n",
      "      '~:name': 'Katakana',\n",
      "      '~:parent-id': '~:DaldoOig',\n",
      "      '~:cards': [Object]\n",
      "    },\n",
      "    {\n",
      "      '~:id': '~:rkf4YJtZ',\n",
      "      '~:sort': 0,\n",
      "      '~:name': 'Basic',\n",
      "      '~:parent-id': '~:WKEjX1ww',\n",
      "      '~:template-id': '~:R4kBonLC',\n",
      "      '~:cards': [Object]\n",
      "    },\n",
      "    {\n",
      "      '~:id': '~:Dni2LWSg',\n",
      "      '~:sort': 1,\n",
      "      '~:name': 'Compound',\n",
      "      '~:parent-id': '~:WKEjX1ww',\n",
      "      '~:template-id': '~:31OFVlWi',\n",
      "      '~:cards': [Object]\n",
      "    },\n",
      "    {\n",
      "      '~:id': '~:b390MKSu',\n",
      "      '~:sort': 2,\n",
      "      '~:name': 'Unique',\n",
      "      '~:parent-id': '~:WKEjX1ww',\n",
      "      '~:template-id': '~:6dc9HKHd',\n",
      "      '~:cards': [Object]\n",
      "    },\n",
      "    {\n",
      "      '~:id': '~:kgen9y19',\n",
      "      '~:sort': 0,\n",
      "      '~:name': 'Hiragana',\n",
      "      '~:parent-id': '~:DaldoOig',\n",
      "      '~:cards': [Object]\n",
      "    },\n",
      "    {\n",
      "      '~:id': '~:uf8bNjPm',\n",
      "      '~:sort': 0,\n",
      "      '~:name': 'Basic',\n",
      "      '~:parent-id': '~:kgen9y19',\n",
      "      '~:template-id': '~:AulJuhrw',\n",
      "      '~:cards': [Object]\n",
      "    },\n",
      "    {\n",
      "      '~:id': '~:gCZqVOgj',\n",
      "      '~:sort': 1,\n",
      "      '~:name': 'Compound',\n",
      "      '~:parent-id': '~:kgen9y19',\n",
      "      '~:template-id': '~:De4sQSs5',\n",
      "      '~:cards': [Object]\n",
      "    }\n",
      "  ]\n",
      "}\n"
     ]
    }
   ],
   "source": [
    "readFile('data.json', 'utf-8', (error, text)=>{\n",
    "    if (error) throw error;\n",
    "    let data=JSON.parse(text);\n",
    "    data['~:version']=2;\n",
    "    console.log(data);\n",
    "})"
   ]
  }
 ],
 "metadata": {
  "kernelspec": {
   "display_name": "JavaScript (Node.js)",
   "language": "javascript",
   "name": "javascript"
  },
  "language_info": {
   "file_extension": ".js",
   "mimetype": "application/javascript",
   "name": "javascript",
   "version": "12.22.9"
  },
  "orig_nbformat": 4
 },
 "nbformat": 4,
 "nbformat_minor": 2
}
